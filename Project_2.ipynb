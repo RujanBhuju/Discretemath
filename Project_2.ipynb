{
  "nbformat": 4,
  "nbformat_minor": 0,
  "metadata": {
    "colab": {
      "name": "Project#2.ipynb",
      "provenance": [],
      "collapsed_sections": [],
      "authorship_tag": "ABX9TyPhlFrvCpr3w+cCIbdKKIu9",
      "include_colab_link": true
    },
    "kernelspec": {
      "name": "python3",
      "display_name": "Python 3"
    },
    "language_info": {
      "name": "python"
    }
  },
  "cells": [
    {
      "cell_type": "markdown",
      "metadata": {
        "id": "view-in-github",
        "colab_type": "text"
      },
      "source": [
        "<a href=\"https://colab.research.google.com/github/RujanBhuju/Discretemath/blob/main/Project_2.ipynb\" target=\"_parent\"><img src=\"https://colab.research.google.com/assets/colab-badge.svg\" alt=\"Open In Colab\"/></a>"
      ]
    },
    {
      "cell_type": "markdown",
      "source": [
        "Project Part 2 : CPSMA 3133 Dr. Jacob's Discrete Mathematics\n",
        "\n",
        "Sets and relations.\n",
        "\n",
        "Rujan Bhuju : 268963"
      ],
      "metadata": {
        "id": "uCFyeUopZDPw"
      }
    },
    {
      "cell_type": "markdown",
      "source": [
        "1a) A function is a relation that for each input, there is only one output. we can say that it’s a special kind of relation, which follows a rule that every X-value should be associated with only one y-value. The three features of function are Domain and range, x-intercept and y-intercept, intervals of increasing, decreasing, and constant behavior. the given function is a onto function since both -1 and 0 elements corresponds to 1.yes, we can change the domain to make it bijective.\n",
        "For example, we have an Aeroplan moving on the chart with these coordinates.\n",
        "\n",
        "\n",
        "F(x)= ax^2+bx+c\n",
        "\n",
        "\n",
        "F(x)= x^2+2x+1\n",
        "\n",
        "\n",
        "Here the domain and range of f(x) is\n",
        "\n",
        "\n",
        "Domain = (-INF, INF)\n",
        "\n",
        "\n",
        "Range = [0, INF)\n",
        "\n",
        "\n",
        "Setting the domain to the range of (-2,2)\n",
        "\n",
        "\n",
        "We have,\n",
        "\n",
        "\n",
        "Aeroplan coordinates = {(-2,1), (0,1), (1,4), (2,9)} \n",
        "\n",
        "\n",
        "\n",
        "\n",
        " \n",
        "\n",
        "\n"
      ],
      "metadata": {
        "id": "ZTCOivJxDia4"
      }
    },
    {
      "cell_type": "markdown",
      "source": [
        "Importing the required library."
      ],
      "metadata": {
        "id": "n41jo7Dm9cnG"
      }
    },
    {
      "cell_type": "code",
      "source": [
        "import matplotlib.pyplot as plt\n"
      ],
      "metadata": {
        "id": "9_g-EaFP8p0C"
      },
      "execution_count": null,
      "outputs": []
    },
    {
      "cell_type": "markdown",
      "source": [
        "X and Y coordinates with a certain range."
      ],
      "metadata": {
        "id": "8x5YUuvK9xVT"
      }
    },
    {
      "cell_type": "code",
      "source": [
        "x = [-2, 0, 1, 2]\n",
        "y = [1, 1, 4, 9]\n"
      ],
      "metadata": {
        "id": "OMnUN5uJ8sa-"
      },
      "execution_count": null,
      "outputs": []
    },
    {
      "cell_type": "markdown",
      "source": [
        "Plotting the coordinates in a graph and also naming the x and y axis."
      ],
      "metadata": {
        "id": "mfOJLp4h93dt"
      }
    },
    {
      "cell_type": "code",
      "source": [
        "plt.plot(x, y)\n",
        "plt.xlabel('x - axis')\n",
        "plt.ylabel('y - axis')\n"
      ],
      "metadata": {
        "colab": {
          "base_uri": "https://localhost:8080/",
          "height": 296
        },
        "id": "jf3Ur00z8-nz",
        "outputId": "02e80ea8-5203-40aa-f10c-35f4e032012c"
      },
      "execution_count": null,
      "outputs": [
        {
          "output_type": "execute_result",
          "data": {
            "text/plain": [
              "Text(0, 0.5, 'y - axis')"
            ]
          },
          "metadata": {},
          "execution_count": 5
        },
        {
          "output_type": "display_data",
          "data": {
            "image/png": "[encoded data removed]",
            "text/plain": [
              "<Figure size 432x288 with 1 Axes>"
            ]
          },
          "metadata": {
            "needs_background": "light"
          }
        }
      ]
    },
    {
      "cell_type": "markdown",
      "source": [
        "The output shows the graph of the given coordinates."
      ],
      "metadata": {
        "id": "ZJKEO8G0-FOE"
      }
    },
    {
      "cell_type": "markdown",
      "source": [
        "Here i am going to Create a dictionary that will build a relation between the set Asian and set Europe."
      ],
      "metadata": {
        "id": "wCkcHvqqhun8"
      }
    },
    {
      "cell_type": "markdown",
      "source": [
        "function f(x) = ax^2 + bx + c \n",
        "\n",
        "f(x) = 1x^2+2x+1\n",
        "\n"
      ],
      "metadata": {
        "id": "1desTqDLTElm"
      }
    },
    {
      "cell_type": "markdown",
      "source": [
        "Importing the required library and creating a function."
      ],
      "metadata": {
        "id": "HiEKXRMgX96I"
      }
    },
    {
      "cell_type": "code",
      "source": [
        "import math\n",
        "import numpy as np\n",
        "\n",
        "def var(x):\n",
        "  return (x**x)+(2*x)+1"
      ],
      "metadata": {
        "id": "89n-SbTnTxLQ"
      },
      "execution_count": 53,
      "outputs": []
    },
    {
      "cell_type": "markdown",
      "source": [
        "setting the value of x as 1."
      ],
      "metadata": {
        "id": "i-AJhxfZYTzh"
      }
    },
    {
      "cell_type": "code",
      "source": [
        "var(1)"
      ],
      "metadata": {
        "colab": {
          "base_uri": "https://localhost:8080/"
        },
        "id": "GyHG8MjtUlrI",
        "outputId": "7eadd282-faeb-43f6-d1b9-b1cf6cfe2621"
      },
      "execution_count": 54,
      "outputs": [
        {
          "output_type": "execute_result",
          "data": {
            "text/plain": [
              "4"
            ]
          },
          "metadata": {},
          "execution_count": 54
        }
      ]
    },
    {
      "cell_type": "markdown",
      "source": [
        "Using my set from my previous project i am going to define a dictionary."
      ],
      "metadata": {
        "id": "wbp-zylvYcat"
      }
    },
    {
      "cell_type": "code",
      "source": [
        "Asia = {'Turkey', 'Thailand','China','India'}\n",
        "Europe = {'Germany', 'France','Turkey','Belgium' }\n",
        "dictionary = dict({asia:europe for asia,europe in zip(Asia, Europe)})\n"
      ],
      "metadata": {
        "id": "QbUgIFBelvcA"
      },
      "execution_count": 15,
      "outputs": []
    },
    {
      "cell_type": "code",
      "source": [
        "dictionary\n",
        "\n"
      ],
      "metadata": {
        "colab": {
          "base_uri": "https://localhost:8080/"
        },
        "id": "Tp8XQ0lwKPrg",
        "outputId": "6d0669ab-4c0e-4eff-c40f-e538333d0d30"
      },
      "execution_count": 14,
      "outputs": [
        {
          "output_type": "execute_result",
          "data": {
            "text/plain": [
              "{'China': 'France',\n",
              " 'India': 'Germany',\n",
              " 'Thailand': 'Belgium',\n",
              " 'Turkey': 'Turkey'}"
            ]
          },
          "metadata": {},
          "execution_count": 14
        }
      ]
    },
    {
      "cell_type": "code",
      "source": [
        "actualDictionary = dict({\"China\":\"France\",\"India\":\"Germany\",\"Thailand\":\"Belgium\"})"
      ],
      "metadata": {
        "id": "Vih3P88gMc3t"
      },
      "execution_count": 16,
      "outputs": []
    },
    {
      "cell_type": "code",
      "source": [
        "newlist2 = [actualDictionary.get(x,x) for x in Asia]\n"
      ],
      "metadata": {
        "id": "A4JUpL2KM4xv"
      },
      "execution_count": 18,
      "outputs": []
    },
    {
      "cell_type": "code",
      "source": [
        "newlist2"
      ],
      "metadata": {
        "colab": {
          "base_uri": "https://localhost:8080/"
        },
        "id": "-y0KnHDUNBps",
        "outputId": "b1e03b5d-f729-4639-e030-f858fd39f7c4"
      },
      "execution_count": 19,
      "outputs": [
        {
          "output_type": "execute_result",
          "data": {
            "text/plain": [
              "['Belgium', 'Germany', 'France', 'Turkey']"
            ]
          },
          "metadata": {},
          "execution_count": 19
        }
      ]
    },
    {
      "cell_type": "markdown",
      "source": [
        "The relation is not an endo relation and is  not symmetric. It is not reflexive either. No, i cannot change the domain to make it bijective.\n",
        "\n",
        "here n = number of element in set Asia = 4\n",
        "\n",
        "m = number of element in set Europe = 4\n",
        "\n",
        "The number of relation = 2^nm  = 2^4*4 = 2^16 = 262144.\n",
        "\n"
      ],
      "metadata": {
        "id": "GIYmT9KXQhCl"
      }
    }
  ]
}