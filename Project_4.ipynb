{
  "nbformat": 4,
  "nbformat_minor": 0,
  "metadata": {
    "colab": {
      "name": "Project#4.ipynb",
      "provenance": [],
      "collapsed_sections": [],
      "authorship_tag": "ABX9TyMn/pRD+ZO/97XufpmOXGmu",
      "include_colab_link": true
    },
    "kernelspec": {
      "name": "python3",
      "display_name": "Python 3"
    },
    "language_info": {
      "name": "python"
    }
  },
  "cells": [
    {
      "cell_type": "markdown",
      "metadata": {
        "id": "view-in-github",
        "colab_type": "text"
      },
      "source": [
        "<a href=\"https://colab.research.google.com/github/RujanBhuju/Discretemath/blob/main/Project_4.ipynb\" target=\"_parent\"><img src=\"https://colab.research.google.com/assets/colab-badge.svg\" alt=\"Open In Colab\"/></a>"
      ]
    },
    {
      "cell_type": "markdown",
      "source": [
        "Project Part 2 : CPSMA 3913 Dr. Jacob's Discrete Mathematics\n",
        "\n",
        "Counting\n",
        "\n",
        "Rujan Bhuju : 268963"
      ],
      "metadata": {
        "id": "w4ua1vuaRo9k"
      }
    },
    {
      "cell_type": "markdown",
      "source": [
        "According to the condition given for simulation I will be using a punch code lock which requires 3 digit to unlock it.The numbers we can choose from are from 0-5.\n",
        "\n",
        "Thus, (n) is the number of digits to choose from & (r) is the number of digit we choose.\n",
        "\n"
      ],
      "metadata": {
        "id": "0ZRTtZrk-VAP"
      }
    },
    {
      "cell_type": "markdown",
      "source": [
        "To find The number of outcomes possible if it is considered a sequence in that particular order.\n",
        " $$= n^r$$\n"
      ],
      "metadata": {
        "id": "JnB2LgWLAGpt"
      }
    },
    {
      "cell_type": "code",
      "source": [
        "import math\n",
        "6**3"
      ],
      "metadata": {
        "colab": {
          "base_uri": "https://localhost:8080/"
        },
        "id": "zH4UnMJNBy7o",
        "outputId": "d6304726-98c5-423f-9000-55d61228cb70"
      },
      "execution_count": 9,
      "outputs": [
        {
          "output_type": "execute_result",
          "data": {
            "text/plain": [
              "216"
            ]
          },
          "metadata": {},
          "execution_count": 9
        }
      ]
    },
    {
      "cell_type": "markdown",
      "source": [
        "Thus , the required number of outcomes as per the given condition is 216."
      ],
      "metadata": {
        "id": "3P2_equaTgtg"
      }
    },
    {
      "cell_type": "markdown",
      "source": [
        "To find the number of outcomes possible in my simulation if order did not matter and also we can repeate the numbers.\n",
        "\n",
        "$$= (r+n-1)/((n-r)!*r!)$$\n"
      ],
      "metadata": {
        "id": "TvkM05cRERoy"
      }
    },
    {
      "cell_type": "code",
      "source": [
        "math.factorial(3+6-1) / ((math.factorial(6 - 3)) * math.factorial(3))"
      ],
      "metadata": {
        "colab": {
          "base_uri": "https://localhost:8080/"
        },
        "id": "zNiNi_JgEvfj",
        "outputId": "b85fda43-0166-4032-f2f9-c0ec209736c0"
      },
      "execution_count": 8,
      "outputs": [
        {
          "output_type": "execute_result",
          "data": {
            "text/plain": [
              "1120.0"
            ]
          },
          "metadata": {},
          "execution_count": 8
        }
      ]
    },
    {
      "cell_type": "markdown",
      "source": [
        "Thus , the required number of outcomes as per the given condition is 1120."
      ],
      "metadata": {
        "id": "uWVRCXS0TvyX"
      }
    },
    {
      "cell_type": "markdown",
      "source": [
        "To find the number of outcomes that is possible if we were not allowed to select an item multiple times with and without the importance of order."
      ],
      "metadata": {
        "id": "ocHg1IBOIF5L"
      }
    },
    {
      "cell_type": "markdown",
      "source": [
        "1) when not allowed to select multiple times with order.\n",
        "\n",
        "$$= n! / (n-r)!$$"
      ],
      "metadata": {
        "id": "91vMnossI48I"
      }
    },
    {
      "cell_type": "code",
      "source": [
        "math.factorial(6) / (math.factorial(6 - 3)) "
      ],
      "metadata": {
        "colab": {
          "base_uri": "https://localhost:8080/"
        },
        "id": "loOFZ_QMJVhs",
        "outputId": "97ba49a5-1c17-4ff5-8940-40fdb7a9ad11"
      },
      "execution_count": 11,
      "outputs": [
        {
          "output_type": "execute_result",
          "data": {
            "text/plain": [
              "120.0"
            ]
          },
          "metadata": {},
          "execution_count": 11
        }
      ]
    },
    {
      "cell_type": "markdown",
      "source": [
        "Thus , the required number of outcomes as per the given condition is 120."
      ],
      "metadata": {
        "id": "y0BooMjrUuYZ"
      }
    },
    {
      "cell_type": "markdown",
      "source": [
        "2) when not allowed to select multiple times without order.\n",
        "\n",
        "$$= n!/((n-r)!*r!)$$"
      ],
      "metadata": {
        "id": "S-A6IRfIKBhq"
      }
    },
    {
      "cell_type": "code",
      "source": [
        "math.factorial(6) / ((math.factorial(6 - 3)) * math.factorial(3))"
      ],
      "metadata": {
        "colab": {
          "base_uri": "https://localhost:8080/"
        },
        "id": "qlupAhN2KSG5",
        "outputId": "c2cb8274-633c-415c-c3bd-828d8a78b460"
      },
      "execution_count": 7,
      "outputs": [
        {
          "output_type": "execute_result",
          "data": {
            "text/plain": [
              "20.0"
            ]
          },
          "metadata": {},
          "execution_count": 7
        }
      ]
    },
    {
      "cell_type": "markdown",
      "source": [
        "Thus , the required number of outcomes as per the given condition is 20."
      ],
      "metadata": {
        "id": "gcS8BLYxU3T0"
      }
    },
    {
      "cell_type": "markdown",
      "source": [
        "To find the coefficent of the 5th order of (x − 3)9.\n",
        "\n",
        "We will be using binomial theorem"
      ],
      "metadata": {
        "id": "KZ3Z2IG3LqEB"
      }
    },
    {
      "cell_type": "markdown",
      "source": [
        "$$\n",
        "(a+b)^n = \\sum_{k=0}^n {n\\choose{k}} a^{n-k} b^k\n",
        "$$"
      ],
      "metadata": {
        "id": "Y0pjnowhvN7i"
      }
    },
    {
      "cell_type": "markdown",
      "source": [
        "Using our expression (x − 3)9."
      ],
      "metadata": {
        "id": "zOCsv_ysQCFM"
      }
    },
    {
      "cell_type": "markdown",
      "source": [
        "$$\n",
        "(x-3)^9 = \\binom{9}{0} x^9(-3)^0 + \\binom{8}{1} x^8(-3)^1 + \\binom{7}{2} x^7(-3)^2 + \\binom{6}{3} x^6(-3)^3 + \\binom{5}{4} x^5(-3)^4 + \\binom{4}{5} x^4(-3)^5 + \\binom{3}{6} x^3(-3)^6 + \\binom{2}{7} x^2(-3)^7 + \\binom{1}{8} x^1(-3)^8 + \\binom{0}{9} x^0(-3)^9\n",
        "$$"
      ],
      "metadata": {
        "id": "TXybbuSOxPhU"
      }
    },
    {
      "cell_type": "markdown",
      "source": [
        "Solving the equation\n",
        "\n",
        "we get,"
      ],
      "metadata": {
        "id": "xp_JZETSQUTx"
      }
    },
    {
      "cell_type": "markdown",
      "source": [
        "$$\n",
        "\\binom{5}{0} x^5(-3)^0 + \\binom{4}{1} x^4(-3)^1 + \\binom{3}{2} x^3(-3)^2 + \\binom{2}{3} x^2(-3)^3 + \\binom{1}{4} x^1(-3)^4 + \\binom{0}{5} x^0(-3)^5 \\\\ = \\ x^5 - 12x^4 + 27x^3 \n",
        "$$"
      ],
      "metadata": {
        "id": "_sTNec0E0qCk"
      }
    },
    {
      "cell_type": "markdown",
      "source": [
        "Since the coefficient of the fifth order expression $$x^5$$ is 1,\n",
        "\n",
        "The coefficent of the 5th order of (x − 3)9 is 1.\n"
      ],
      "metadata": {
        "id": "qhbW_27IQkv5"
      }
    }
  ]
}