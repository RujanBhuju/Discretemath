{
  "nbformat": 4,
  "nbformat_minor": 0,
  "metadata": {
    "colab": {
      "name": "Project6.ipynb",
      "provenance": [],
      "collapsed_sections": [],
      "authorship_tag": "ABX9TyO7a/CvlAtAlan3BivdsM3m",
      "include_colab_link": true
    },
    "kernelspec": {
      "name": "python3",
      "display_name": "Python 3"
    },
    "language_info": {
      "name": "python"
    }
  },
  "cells": [
    {
      "cell_type": "markdown",
      "metadata": {
        "id": "view-in-github",
        "colab_type": "text"
      },
      "source": [
        "<a href=\"https://colab.research.google.com/github/RujanBhuju/Discretemath/blob/main/Project%236.ipynb\" target=\"_parent\"><img src=\"https://colab.research.google.com/assets/colab-badge.svg\" alt=\"Open In Colab\"/></a>"
      ]
    },
    {
      "cell_type": "markdown",
      "source": [
        "#CPSMA-3913-01\n",
        "\n",
        "#Dr Jacob's Discrete Math\n",
        "\n",
        "#Rujan Bhuju(268963)"
      ],
      "metadata": {
        "id": "OwKwAYWA1E_V"
      }
    },
    {
      "cell_type": "markdown",
      "source": [
        "Here,\n",
        "\n",
        "I will be converting the numbers to diffrent base system like binary, decimal and hexadecimal. i will also be computing the mathmatical operation using two's complement."
      ],
      "metadata": {
        "id": "4udYXkVljeTN"
      }
    },
    {
      "cell_type": "markdown",
      "source": [
        "Defining a function to convert the numbers into base 10."
      ],
      "metadata": {
        "id": "N8PUqYaW1VQm"
      }
    },
    {
      "cell_type": "code",
      "source": [
        "def ToDecimal(number,base):\n",
        "    decimal = 0\n",
        "    count = 0\n",
        "    for digit in number[::-1]:\n",
        "      #For hexadecimal\n",
        "      if(base == 16):\n",
        "        if(digit == 'A' or 'a'):\n",
        "          digit ='10'\n",
        "        elif(digit == 'B' or 'b'):\n",
        "          digit ='11'\n",
        "        elif(digit == 'C' or 'c'):\n",
        "          digit ='12'\n",
        "        elif(digit == 'D' or 'd'):\n",
        "          digit ='13'\n",
        "        elif(digit == 'E' or 'e'):\n",
        "          digit ='14'\n",
        "        elif(digit == 'F' or 'f'):\n",
        "          digit = '15'\n",
        "\n",
        "      decimal += int(digit) * base ** count\n",
        "      count += 1\n",
        "    print(\"The Decimal value is:\", decimal)"
      ],
      "metadata": {
        "id": "38gdOz8U1Xq3"
      },
      "execution_count": null,
      "outputs": []
    },
    {
      "cell_type": "markdown",
      "source": [
        "Converting (24036)base7   to decimal value."
      ],
      "metadata": {
        "id": "Ef2tQQyf68vX"
      }
    },
    {
      "cell_type": "code",
      "source": [
        "ToDecimal('24036',7)"
      ],
      "metadata": {
        "colab": {
          "base_uri": "https://localhost:8080/"
        },
        "id": "bCFSjcp236qE",
        "outputId": "cbfdb862-a599-4400-d0ba-32787ad61718"
      },
      "execution_count": null,
      "outputs": [
        {
          "output_type": "stream",
          "name": "stdout",
          "text": [
            "The Decimal value is: 6201\n"
          ]
        }
      ]
    },
    {
      "cell_type": "markdown",
      "source": [
        "Converting (72e3)base16 to decimal value."
      ],
      "metadata": {
        "id": "rl-8KBTS7N1E"
      }
    },
    {
      "cell_type": "code",
      "source": [
        "ToDecimal('72e3',16)"
      ],
      "metadata": {
        "colab": {
          "base_uri": "https://localhost:8080/"
        },
        "id": "Jveqg-js5PaL",
        "outputId": "a352bd74-8ac5-40ba-83cf-6e2432d97767"
      },
      "execution_count": null,
      "outputs": [
        {
          "output_type": "stream",
          "name": "stdout",
          "text": [
            "The Decimal value is: 43690\n"
          ]
        }
      ]
    },
    {
      "cell_type": "markdown",
      "source": [
        "Creating a function to converts numbers into hexadecimal."
      ],
      "metadata": {
        "id": "NcLb6Stu7c3w"
      }
    },
    {
      "cell_type": "code",
      "source": [
        "hexEquivalent = {0: '0', 1: '1', 2: '2', 3: '3', 4: '4',5: '5', 6: '6', 7: '7',8: '8', 9: '9', 10: 'A', 11: 'B', 12: 'C',13: 'D', 14: 'E', 15: 'F'}\n",
        "def ToHexadecimal(decimal):\n",
        "\thexadecimal = ''\n",
        "\twhile(decimal > 0):\n",
        "\t\tremainder = decimal % 16\n",
        "\t\thexadecimal = hexEquivalent[remainder] + hexadecimal\n",
        "\t\tdecimal = decimal // 16\n",
        "\n",
        "\treturn hexadecimal"
      ],
      "metadata": {
        "id": "cGTVIyqB7oQC"
      },
      "execution_count": null,
      "outputs": []
    },
    {
      "cell_type": "markdown",
      "source": [
        "converting 3735928559 into hexadecimal."
      ],
      "metadata": {
        "id": "gv1QVcdt-jvB"
      }
    },
    {
      "cell_type": "code",
      "source": [
        "print(\"The Hexadecimal value is:\",ToHexadecimal (3735928559))"
      ],
      "metadata": {
        "colab": {
          "base_uri": "https://localhost:8080/"
        },
        "id": "NJx3d4FR8CmI",
        "outputId": "d92a2989-2cff-42e8-e072-1967e56e6546"
      },
      "execution_count": null,
      "outputs": [
        {
          "output_type": "stream",
          "name": "stdout",
          "text": [
            "The Hexadecimal value is: DEADBEEF\n"
          ]
        }
      ]
    },
    {
      "cell_type": "markdown",
      "source": [
        "Output shows the required hexadecimal form."
      ],
      "metadata": {
        "id": "zi5a7qdr_hCe"
      }
    },
    {
      "cell_type": "markdown",
      "source": [
        "Finding two’s complement and preforming the base ten subtraction of 25 − 37."
      ],
      "metadata": {
        "id": "O0rkvEl1_7jN"
      }
    },
    {
      "cell_type": "markdown",
      "source": [
        "Here i will be using bin() function to convert 25 into Binary.\n"
      ],
      "metadata": {
        "id": "qLQJ-MZyHqmw"
      }
    },
    {
      "cell_type": "code",
      "source": [
        "binary = bin(25)\n",
        "print(binary)"
      ],
      "metadata": {
        "colab": {
          "base_uri": "https://localhost:8080/"
        },
        "id": "Z80uah-9Hz1x",
        "outputId": "1fe7a458-ecd0-4a32-d84a-85ff4e98dbea"
      },
      "execution_count": null,
      "outputs": [
        {
          "output_type": "stream",
          "name": "stdout",
          "text": [
            "0b11001\n"
          ]
        }
      ]
    },
    {
      "cell_type": "markdown",
      "source": [
        "Flipping 1 with 0 and 0 with 1 to gets one's complement of 25."
      ],
      "metadata": {
        "id": "jFPqaRuKaCOM"
      }
    },
    {
      "cell_type": "code",
      "source": [
        "binary = '11001'\n",
        "ones_comp = '' \n",
        "for i in binary:    \n",
        "    if i == '0':\n",
        "        ones_comp += '1'          \n",
        "    else:\n",
        "        ones_comp += '0'          \n",
        "print(\"One's complement of 25 is \", ones_comp)"
      ],
      "metadata": {
        "colab": {
          "base_uri": "https://localhost:8080/"
        },
        "id": "g9ORCWpcaKK-",
        "outputId": "a50f9d0c-833f-41a9-e606-37382b874d94"
      },
      "execution_count": null,
      "outputs": [
        {
          "output_type": "stream",
          "name": "stdout",
          "text": [
            "One's complement of 25 is  00110\n"
          ]
        }
      ]
    },
    {
      "cell_type": "markdown",
      "source": [
        "Here i will be using bin() function to convert 37 into Binary."
      ],
      "metadata": {
        "id": "jt7Vhe2-ars2"
      }
    },
    {
      "cell_type": "code",
      "source": [
        "binary1 = bin(37)\n",
        "print(binary1)"
      ],
      "metadata": {
        "colab": {
          "base_uri": "https://localhost:8080/"
        },
        "id": "ErNmkFdaIE2E",
        "outputId": "b56994b9-6272-4817-acef-f31ed8101de0"
      },
      "execution_count": null,
      "outputs": [
        {
          "output_type": "stream",
          "name": "stdout",
          "text": [
            "0b100101\n"
          ]
        }
      ]
    },
    {
      "cell_type": "markdown",
      "source": [
        "Flipping 1 with 0 and 0 with 1 to gets one's complement of 37."
      ],
      "metadata": {
        "id": "1HBRHl1_YqgS"
      }
    },
    {
      "cell_type": "code",
      "source": [
        "binary1 = '100101'\n",
        "ones_comp1 = ''\n",
        "for i in binary1:    \n",
        "    if i == '0':\n",
        "        ones_comp1 += '1'          \n",
        "    else:\n",
        "        ones_comp1 += '0'          \n",
        "print(\"One's complement of 37 is \", ones_comp1 )"
      ],
      "metadata": {
        "colab": {
          "base_uri": "https://localhost:8080/"
        },
        "id": "8GDNUw11YjxM",
        "outputId": "4e1c637d-6671-461f-bcef-d220584b2a50"
      },
      "execution_count": null,
      "outputs": [
        {
          "output_type": "stream",
          "name": "stdout",
          "text": [
            "One's complement of 37 is  011010\n"
          ]
        }
      ]
    },
    {
      "cell_type": "markdown",
      "source": [
        "Adding 1 to one's complement to get the two's complement."
      ],
      "metadata": {
        "id": "_5FvR5bPcsV-"
      }
    },
    {
      "cell_type": "code",
      "source": [
        "ones_comp1 = \"011010\"\n",
        "x = \"1\"  \n",
        "sum = bin(int(ones_comp1, 2) + int(x, 2))\n",
        "print(\"two's complement of 37 is \",sum[2:])"
      ],
      "metadata": {
        "colab": {
          "base_uri": "https://localhost:8080/"
        },
        "id": "fkcS8ixcbmkd",
        "outputId": "ed283a42-952b-4283-c1df-bb065ceb486c"
      },
      "execution_count": null,
      "outputs": [
        {
          "output_type": "stream",
          "name": "stdout",
          "text": [
            "two's complement of 37 is  11011\n"
          ]
        }
      ]
    },
    {
      "cell_type": "markdown",
      "source": [
        "subtracting the numbers to get the requird value."
      ],
      "metadata": {
        "id": "olhOY11KgNBE"
      }
    },
    {
      "cell_type": "code",
      "source": [
        "binary = \"11001\"\n",
        "twos_comp1 = \"111011\"\n",
        "dif = bin(int(binary, 2) + int(twos_comp1, 2))\n",
        "print(\"the required binary form is \",dif[2:])"
      ],
      "metadata": {
        "colab": {
          "base_uri": "https://localhost:8080/"
        },
        "id": "dwD-LfdLdAPJ",
        "outputId": "a3d72afe-195a-4719-c5f5-157fc31f5b99"
      },
      "execution_count": null,
      "outputs": [
        {
          "output_type": "stream",
          "name": "stdout",
          "text": [
            "the required binary form is  1010100\n"
          ]
        }
      ]
    },
    {
      "cell_type": "markdown",
      "source": [
        "\n",
        "Computers consist of circuits that will operate on binary logic of 0 and 1. these circuits have only two staes on or off which is represented by 0 or 1. binary language are easier to make computer understand the instruction. hexadecimal is a concise representation of binary. hexadecimal systems can represents those binary numbers in a more convinient way so that we can undesrtand it easily."
      ],
      "metadata": {
        "id": "qqDfIAf9hEG6"
      }
    }
  ]
}