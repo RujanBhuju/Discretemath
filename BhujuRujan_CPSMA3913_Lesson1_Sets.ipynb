{
  "nbformat": 4,
  "nbformat_minor": 0,
  "metadata": {
    "colab": {
      "name": "Sets.ipynb",
      "provenance": [],
      "collapsed_sections": [],
      "authorship_tag": "ABX9TyMEnOq/AfOnRl6R87nG5kHB",
      "include_colab_link": true
    },
    "kernelspec": {
      "name": "python3",
      "display_name": "Python 3"
    },
    "language_info": {
      "name": "python"
    }
  },
  "cells": [
    {
      "cell_type": "markdown",
      "metadata": {
        "id": "view-in-github",
        "colab_type": "text"
      },
      "source": [
        "<a href=\"https://colab.research.google.com/github/RujanBhuju/Discretemath/blob/main/BhujuRujan_CPSMA3913_Lesson1_Sets.ipynb\" target=\"_parent\"><img src=\"https://colab.research.google.com/assets/colab-badge.svg\" alt=\"Open In Colab\"/></a>"
      ]
    },
    {
      "cell_type": "markdown",
      "source": [
        "Project Part 1 : CPSMA 3133 Dr. Jacob's Discrete Mathematics\n",
        "                                        \n",
        "Sets\n",
        "                     \n",
        "Rujan Bhuju : 268963"
      ],
      "metadata": {
        "id": "lFVkeBRHrrY3"
      }
    },
    {
      "cell_type": "markdown",
      "source": [
        "I will be using countries on the basis of the continents they share land with.\n",
        "set Asia are the countires which belongs to Asia.\n",
        "set Europe are the countries which belongs to Europe.\n",
        "set Africa are the countries that belongs to Africa. Than i will calculate the Union and Intersections of the Sets followed by the Complements of sets and Powersets.\n"
      ],
      "metadata": {
        "id": "G5yQkUIFJbLS"
      }
    },
    {
      "cell_type": "code",
      "source": [
        "Asia = {'Turkey', 'Thailand','China', 'Russia', 'Egypt', 'Nepal', 'Iran'}\n",
        "Europe = {'Germany', 'France','Belgium', \"Russia\", 'Turkey', 'Spain' }\n",
        "Africa = {'Egypt','Nigeria','Kenya','Ghana', 'Spain', 'Ethiopia'}\n"
      ],
      "metadata": {
        "id": "H1LQJiUwKWcZ"
      },
      "execution_count": null,
      "outputs": []
    },
    {
      "cell_type": "markdown",
      "source": [
        "Union between the Asia and Europe.\n"
      ],
      "metadata": {
        "id": "t7leE3snN3Nq"
      }
    },
    {
      "cell_type": "code",
      "source": [
        "AsiaUEurope = []\n",
        "for countries in Asia:\n",
        "  AsiaUEurope.append(countries) #Add all countries from Asia\n",
        "for countries in Europe:\n",
        "  AsiaUEurope.append(countries) # Add all countries from Europe\n",
        "\n",
        "AsiaUEurope = set(AsiaUEurope) #change the list to a set removes duplicates and alphabetize\n",
        "\n",
        "AsiaUEurope \n",
        "\n"
      ],
      "metadata": {
        "colab": {
          "base_uri": "https://localhost:8080/"
        },
        "id": "hOzm9pjSN_2_",
        "outputId": "76e31bab-b821-487c-fcca-3b1112e455c6"
      },
      "execution_count": null,
      "outputs": [
        {
          "output_type": "execute_result",
          "data": {
            "text/plain": [
              "{'Belgium',\n",
              " 'China',\n",
              " 'Egypt',\n",
              " 'France',\n",
              " 'Germany',\n",
              " 'Iran',\n",
              " 'Nepal',\n",
              " 'Russia',\n",
              " 'Spain',\n",
              " 'Thailand',\n",
              " 'Turkey'}"
            ]
          },
          "metadata": {},
          "execution_count": 93
        }
      ]
    },
    {
      "cell_type": "markdown",
      "source": [
        "Union between Asia and Africa.\n"
      ],
      "metadata": {
        "id": "JUvq-zYoTZgh"
      }
    },
    {
      "cell_type": "code",
      "source": [
        "AsiaUAfrica = []\n",
        "for countries in Asia:\n",
        "  AsiaUAfrica.append(countries) #Add all countries from Asia\n",
        "for countries in Africa:\n",
        "  AsiaUAfrica.append(countries) # Add all countries from Africa\n",
        "\n",
        "AsiaUAfrica = set(AsiaUAfrica) #change the list to a set removes duplicates and alphabetize\n",
        "\n",
        "AsiaUAfrica\n"
      ],
      "metadata": {
        "colab": {
          "base_uri": "https://localhost:8080/"
        },
        "outputId": "778636dd-6265-4c28-fd3e-170904f4da90",
        "id": "vJyKaAn9TmU4"
      },
      "execution_count": null,
      "outputs": [
        {
          "output_type": "execute_result",
          "data": {
            "text/plain": [
              "{'China',\n",
              " 'Egypt',\n",
              " 'Ethiopia',\n",
              " 'Ghana',\n",
              " 'Iran',\n",
              " 'Kenya',\n",
              " 'Nepal',\n",
              " 'Nigeria',\n",
              " 'Russia',\n",
              " 'Spain',\n",
              " 'Thailand',\n",
              " 'Turkey'}"
            ]
          },
          "metadata": {},
          "execution_count": 73
        }
      ]
    },
    {
      "cell_type": "markdown",
      "source": [
        "Union Between Africa and Europe."
      ],
      "metadata": {
        "id": "8zZI0bomUFT-"
      }
    },
    {
      "cell_type": "code",
      "source": [
        "AfricaUEurope = []\n",
        "for countries in Africa:\n",
        "  AfricaUEurope.append(countries) #Add all countries from Africa\n",
        "for countries in Europe:\n",
        "  AfricaUEurope.append(countries) # Add all countries from Europe\n",
        "\n",
        "AfricaUEurope = set(AfricaUEurope) #change the list to a set removes duplicates and alphabetize\n",
        "\n",
        "AfricaUEurope \n",
        "\n",
        "\n"
      ],
      "metadata": {
        "colab": {
          "base_uri": "https://localhost:8080/"
        },
        "outputId": "8b3463e0-9528-4496-b502-3a7011cedb9c",
        "id": "bDA-SSWrUMNo"
      },
      "execution_count": null,
      "outputs": [
        {
          "output_type": "execute_result",
          "data": {
            "text/plain": [
              "{'Belgium',\n",
              " 'Egypt',\n",
              " 'Ethiopia',\n",
              " 'France',\n",
              " 'Germany',\n",
              " 'Ghana',\n",
              " 'Kenya',\n",
              " 'Nigeria',\n",
              " 'Russia',\n",
              " 'Spain',\n",
              " 'Turkey'}"
            ]
          },
          "metadata": {},
          "execution_count": 74
        }
      ]
    },
    {
      "cell_type": "markdown",
      "source": [
        "Intersection between Asia and Europe using conditional IF."
      ],
      "metadata": {
        "id": "ACsIP5-rVLCm"
      }
    },
    {
      "cell_type": "code",
      "source": [
        "AsiaCapEurope = []\n",
        "for country in Asia:\n",
        "  if country in Europe:\n",
        "    AsiaCapEurope.append(country)\n",
        "\n",
        "AsiaCapEurope"
      ],
      "metadata": {
        "colab": {
          "base_uri": "https://localhost:8080/"
        },
        "id": "wP8ZW3UBVQC3",
        "outputId": "cb2b8512-a619-4631-b371-3e28876643aa"
      },
      "execution_count": null,
      "outputs": [
        {
          "output_type": "execute_result",
          "data": {
            "text/plain": [
              "['Russia', 'Turkey']"
            ]
          },
          "metadata": {},
          "execution_count": 75
        }
      ]
    },
    {
      "cell_type": "markdown",
      "source": [
        "Testing data."
      ],
      "metadata": {
        "id": "20lvshOGhpx6"
      }
    },
    {
      "cell_type": "code",
      "source": [
        "EuropeCapAsia = []\n",
        "for country in Europe:\n",
        "  if country in Asia:\n",
        "    EuropeCapAsia.append(country)\n",
        "\n",
        "EuropeCapAsia"
      ],
      "metadata": {
        "colab": {
          "base_uri": "https://localhost:8080/"
        },
        "outputId": "89663afc-85e3-424a-f7a6-5de62b0a7ce6",
        "id": "zI9HdYB4hXq-"
      },
      "execution_count": null,
      "outputs": [
        {
          "output_type": "execute_result",
          "data": {
            "text/plain": [
              "['Russia', 'Turkey']"
            ]
          },
          "metadata": {},
          "execution_count": 84
        }
      ]
    },
    {
      "cell_type": "markdown",
      "source": [
        "C)Is there any difference in which set is called first, why or why not?\n",
        "No, there is no difference in which order sets are called while doing union and intersection of the data. the order doesnot matter in union and intersection. each indivisual data carries their own value and is not affected by the order in which it is called either first or last.\n"
      ],
      "metadata": {
        "id": "bz4CVgFnh59e"
      }
    },
    {
      "cell_type": "markdown",
      "source": [
        "Intersection between Asia and Africa using IF."
      ],
      "metadata": {
        "id": "Jb8CLN1aWGQT"
      }
    },
    {
      "cell_type": "code",
      "source": [
        "AsiaCapAfrica = []\n",
        "for country in Asia:\n",
        "  if country in Africa:\n",
        "    AsiaCapAfrica.append(country)\n",
        "\n",
        "AsiaCapAfrica"
      ],
      "metadata": {
        "colab": {
          "base_uri": "https://localhost:8080/"
        },
        "id": "6QOHJdyVWLqS",
        "outputId": "0dfca6e4-c4ce-4960-d56d-9aa0ef175fb2"
      },
      "execution_count": null,
      "outputs": [
        {
          "output_type": "execute_result",
          "data": {
            "text/plain": [
              "['Egypt']"
            ]
          },
          "metadata": {},
          "execution_count": 76
        }
      ]
    },
    {
      "cell_type": "markdown",
      "source": [
        "Intersection between Europe and Africa using IF."
      ],
      "metadata": {
        "id": "vwLsQxHLXBpK"
      }
    },
    {
      "cell_type": "code",
      "source": [
        "EuropeCapAfrica = []\n",
        "for country in Europe:\n",
        "  if country in Africa:\n",
        "    EuropeCapAfrica.append(country)\n",
        "\n",
        "EuropeCapAfrica"
      ],
      "metadata": {
        "colab": {
          "base_uri": "https://localhost:8080/"
        },
        "outputId": "ed5e5801-fc1f-4377-df7c-972bec29d722",
        "id": "Sg-pP_AMXLjO"
      },
      "execution_count": null,
      "outputs": [
        {
          "output_type": "execute_result",
          "data": {
            "text/plain": [
              "['Spain']"
            ]
          },
          "metadata": {},
          "execution_count": 77
        }
      ]
    },
    {
      "cell_type": "markdown",
      "source": [
        "creating Universal set U."
      ],
      "metadata": {
        "id": "HhBs6WSFX5fZ"
      }
    },
    {
      "cell_type": "code",
      "source": [
        "SetofSets = [Asia,Europe,Africa]\n",
        "U = []\n",
        "for sett in SetofSets:\n",
        "  for character in sett:\n",
        "    U.append(character)\n",
        "\n",
        "set(U)"
      ],
      "metadata": {
        "colab": {
          "base_uri": "https://localhost:8080/"
        },
        "id": "m3GwChd2X_N_",
        "outputId": "c41dd5ce-65b1-4277-cfb8-1005b9941039"
      },
      "execution_count": null,
      "outputs": [
        {
          "output_type": "execute_result",
          "data": {
            "text/plain": [
              "{'Belgium',\n",
              " 'China',\n",
              " 'Egypt',\n",
              " 'Ethiopia',\n",
              " 'France',\n",
              " 'Germany',\n",
              " 'Ghana',\n",
              " 'Iran',\n",
              " 'Kenya',\n",
              " 'Nepal',\n",
              " 'Nigeria',\n",
              " 'Russia',\n",
              " 'Spain',\n",
              " 'Thailand',\n",
              " 'Turkey'}"
            ]
          },
          "metadata": {},
          "execution_count": 78
        }
      ]
    },
    {
      "cell_type": "code",
      "source": [
        "\n",
        "NorthAmerica = {'Mexico', 'Canada', 'United states', 'Cuba','Panama','Haiti'  }\n",
        "for contries in NorthAmerica:\n",
        "  U.append(country)\n",
        "  "
      ],
      "metadata": {
        "id": "MBeg6vDuZEK3"
      },
      "execution_count": null,
      "outputs": []
    },
    {
      "cell_type": "markdown",
      "source": [
        "Creating universal including new countries from NorthAmerica\n"
      ],
      "metadata": {
        "id": "K1JpMrnWaWwR"
      }
    },
    {
      "cell_type": "code",
      "source": [
        "SetofSets = [Asia,Europe,Africa,NorthAmerica]\n",
        "U = []\n",
        "for sett in SetofSets:\n",
        "  for character in sett:\n",
        "    U.append(character)\n",
        "\n",
        "set(U)"
      ],
      "metadata": {
        "colab": {
          "base_uri": "https://localhost:8080/"
        },
        "outputId": "7fa3dd23-668c-4fa9-9418-e7dff0973a1a",
        "id": "ETlyonGsahgi"
      },
      "execution_count": null,
      "outputs": [
        {
          "output_type": "execute_result",
          "data": {
            "text/plain": [
              "{'Belgium',\n",
              " 'Canada',\n",
              " 'China',\n",
              " 'Cuba',\n",
              " 'Egypt',\n",
              " 'Ethiopia',\n",
              " 'France',\n",
              " 'Germany',\n",
              " 'Ghana',\n",
              " 'Haiti',\n",
              " 'Iran',\n",
              " 'Kenya',\n",
              " 'Mexico',\n",
              " 'Nepal',\n",
              " 'Nigeria',\n",
              " 'Panama',\n",
              " 'Russia',\n",
              " 'Spain',\n",
              " 'Thailand',\n",
              " 'Turkey',\n",
              " 'United states'}"
            ]
          },
          "metadata": {},
          "execution_count": 79
        }
      ]
    },
    {
      "cell_type": "markdown",
      "source": [
        "Complement of Asia\n"
      ],
      "metadata": {
        "id": "OEr8picCbsCk"
      }
    },
    {
      "cell_type": "code",
      "source": [
        "AsiaComplement =[]\n",
        "\n",
        "for country in U:\n",
        "  if country not in Asia:\n",
        "    AsiaComplement.append(country)\n",
        "\n",
        "AsiaComplement"
      ],
      "metadata": {
        "colab": {
          "base_uri": "https://localhost:8080/"
        },
        "id": "SpYc-aWMbu9B",
        "outputId": "58f60e82-7bce-48a7-8973-302a33375420"
      },
      "execution_count": null,
      "outputs": [
        {
          "output_type": "execute_result",
          "data": {
            "text/plain": [
              "['France',\n",
              " 'Belgium',\n",
              " 'Spain',\n",
              " 'Germany',\n",
              " 'Kenya',\n",
              " 'Ethiopia',\n",
              " 'Nigeria',\n",
              " 'Spain',\n",
              " 'Ghana',\n",
              " 'Haiti',\n",
              " 'United states',\n",
              " 'Mexico',\n",
              " 'Panama',\n",
              " 'Cuba',\n",
              " 'Canada']"
            ]
          },
          "metadata": {},
          "execution_count": 80
        }
      ]
    },
    {
      "cell_type": "markdown",
      "source": [
        "Complement of Europe."
      ],
      "metadata": {
        "id": "8-zNPNNacVnn"
      }
    },
    {
      "cell_type": "code",
      "source": [
        "EuropeComplement =[]\n",
        "\n",
        "for country in U:\n",
        "  if country not in Europe:\n",
        "    EuropeComplement.append(country)\n",
        "\n",
        "EuropeComplement"
      ],
      "metadata": {
        "colab": {
          "base_uri": "https://localhost:8080/"
        },
        "id": "3u2aOHbBcZ-f",
        "outputId": "3e1e0ef9-c11c-4078-de1a-51fbbbabeb6f"
      },
      "execution_count": null,
      "outputs": [
        {
          "output_type": "execute_result",
          "data": {
            "text/plain": [
              "['Nepal',\n",
              " 'Iran',\n",
              " 'China',\n",
              " 'Thailand',\n",
              " 'Egypt',\n",
              " 'Kenya',\n",
              " 'Ethiopia',\n",
              " 'Nigeria',\n",
              " 'Egypt',\n",
              " 'Ghana',\n",
              " 'Haiti',\n",
              " 'United states',\n",
              " 'Mexico',\n",
              " 'Panama',\n",
              " 'Cuba',\n",
              " 'Canada']"
            ]
          },
          "metadata": {},
          "execution_count": 81
        }
      ]
    },
    {
      "cell_type": "markdown",
      "source": [
        "Complement of Africa."
      ],
      "metadata": {
        "id": "-nnjlSjtcnBy"
      }
    },
    {
      "cell_type": "code",
      "source": [
        "AfricaComplement =[]\n",
        "\n",
        "for country in U:\n",
        "  if country not in Africa:\n",
        "    AfricaComplement.append(country)\n",
        "\n",
        "AfricaComplement"
      ],
      "metadata": {
        "colab": {
          "base_uri": "https://localhost:8080/"
        },
        "outputId": "a80fca3a-d100-4cd2-bc70-5f5a9cd6b723",
        "id": "FHrxrFnIcrn-"
      },
      "execution_count": null,
      "outputs": [
        {
          "output_type": "execute_result",
          "data": {
            "text/plain": [
              "['Nepal',\n",
              " 'Russia',\n",
              " 'Iran',\n",
              " 'China',\n",
              " 'Thailand',\n",
              " 'Turkey',\n",
              " 'France',\n",
              " 'Russia',\n",
              " 'Belgium',\n",
              " 'Germany',\n",
              " 'Turkey',\n",
              " 'Haiti',\n",
              " 'United states',\n",
              " 'Mexico',\n",
              " 'Panama',\n",
              " 'Cuba',\n",
              " 'Canada']"
            ]
          },
          "metadata": {},
          "execution_count": 55
        }
      ]
    },
    {
      "cell_type": "markdown",
      "source": [
        "Asia union Europe Complement."
      ],
      "metadata": {
        "id": "Vvv7-850dNYx"
      }
    },
    {
      "cell_type": "code",
      "source": [
        "AsiaUEuropeComplement =[]\n",
        "\n",
        "for country in U:\n",
        "  if country not in AsiaUEurope:\n",
        "    AsiaUEuropeComplement.append(country)\n",
        "\n",
        "AsiaUEuropeComplement"
      ],
      "metadata": {
        "colab": {
          "base_uri": "https://localhost:8080/"
        },
        "outputId": "fc671cc3-c525-4ea2-a54a-80b93ec6e2cc",
        "id": "iaxoVVeJdTRf"
      },
      "execution_count": null,
      "outputs": [
        {
          "output_type": "execute_result",
          "data": {
            "text/plain": [
              "['Kenya',\n",
              " 'Ethiopia',\n",
              " 'Nigeria',\n",
              " 'Ghana',\n",
              " 'Haiti',\n",
              " 'United states',\n",
              " 'Mexico',\n",
              " 'Panama',\n",
              " 'Cuba',\n",
              " 'Canada']"
            ]
          },
          "metadata": {},
          "execution_count": 82
        }
      ]
    },
    {
      "cell_type": "markdown",
      "source": [
        "e) Any Subsets?\n",
        "           \n",
        "No, there are no subsets in the given sets.\n"
      ],
      "metadata": {
        "id": "JVCZoyjsi-jW"
      }
    },
    {
      "cell_type": "markdown",
      "source": [
        "Power set for set Asia."
      ],
      "metadata": {
        "id": "USulrdignLD5"
      }
    },
    {
      "cell_type": "code",
      "source": [
        "def DPpowerset(s):\n",
        "  powerset = [[]]\n",
        "  for i in s:\n",
        "    for sett in powerset:\n",
        "      powerset = powerset + [sett + [i]]\n",
        "  return powerset"
      ],
      "metadata": {
        "id": "oXLndiQqnO7H"
      },
      "execution_count": null,
      "outputs": []
    },
    {
      "cell_type": "code",
      "source": [
        "DPpowerset(Asia)"
      ],
      "metadata": {
        "colab": {
          "base_uri": "https://localhost:8080/"
        },
        "id": "xm4jzeQyne0p",
        "outputId": "99f1b53a-83de-4460-973e-bd33f4e0e9ee"
      },
      "execution_count": null,
      "outputs": [
        {
          "output_type": "execute_result",
          "data": {
            "text/plain": [
              "[[],\n",
              " ['Nepal'],\n",
              " ['Russia'],\n",
              " ['Nepal', 'Russia'],\n",
              " ['Iran'],\n",
              " ['Nepal', 'Iran'],\n",
              " ['Russia', 'Iran'],\n",
              " ['Nepal', 'Russia', 'Iran'],\n",
              " ['China'],\n",
              " ['Nepal', 'China'],\n",
              " ['Russia', 'China'],\n",
              " ['Nepal', 'Russia', 'China'],\n",
              " ['Iran', 'China'],\n",
              " ['Nepal', 'Iran', 'China'],\n",
              " ['Russia', 'Iran', 'China'],\n",
              " ['Nepal', 'Russia', 'Iran', 'China'],\n",
              " ['Thailand'],\n",
              " ['Nepal', 'Thailand'],\n",
              " ['Russia', 'Thailand'],\n",
              " ['Nepal', 'Russia', 'Thailand'],\n",
              " ['Iran', 'Thailand'],\n",
              " ['Nepal', 'Iran', 'Thailand'],\n",
              " ['Russia', 'Iran', 'Thailand'],\n",
              " ['Nepal', 'Russia', 'Iran', 'Thailand'],\n",
              " ['China', 'Thailand'],\n",
              " ['Nepal', 'China', 'Thailand'],\n",
              " ['Russia', 'China', 'Thailand'],\n",
              " ['Nepal', 'Russia', 'China', 'Thailand'],\n",
              " ['Iran', 'China', 'Thailand'],\n",
              " ['Nepal', 'Iran', 'China', 'Thailand'],\n",
              " ['Russia', 'Iran', 'China', 'Thailand'],\n",
              " ['Nepal', 'Russia', 'Iran', 'China', 'Thailand'],\n",
              " ['Turkey'],\n",
              " ['Nepal', 'Turkey'],\n",
              " ['Russia', 'Turkey'],\n",
              " ['Nepal', 'Russia', 'Turkey'],\n",
              " ['Iran', 'Turkey'],\n",
              " ['Nepal', 'Iran', 'Turkey'],\n",
              " ['Russia', 'Iran', 'Turkey'],\n",
              " ['Nepal', 'Russia', 'Iran', 'Turkey'],\n",
              " ['China', 'Turkey'],\n",
              " ['Nepal', 'China', 'Turkey'],\n",
              " ['Russia', 'China', 'Turkey'],\n",
              " ['Nepal', 'Russia', 'China', 'Turkey'],\n",
              " ['Iran', 'China', 'Turkey'],\n",
              " ['Nepal', 'Iran', 'China', 'Turkey'],\n",
              " ['Russia', 'Iran', 'China', 'Turkey'],\n",
              " ['Nepal', 'Russia', 'Iran', 'China', 'Turkey'],\n",
              " ['Thailand', 'Turkey'],\n",
              " ['Nepal', 'Thailand', 'Turkey'],\n",
              " ['Russia', 'Thailand', 'Turkey'],\n",
              " ['Nepal', 'Russia', 'Thailand', 'Turkey'],\n",
              " ['Iran', 'Thailand', 'Turkey'],\n",
              " ['Nepal', 'Iran', 'Thailand', 'Turkey'],\n",
              " ['Russia', 'Iran', 'Thailand', 'Turkey'],\n",
              " ['Nepal', 'Russia', 'Iran', 'Thailand', 'Turkey'],\n",
              " ['China', 'Thailand', 'Turkey'],\n",
              " ['Nepal', 'China', 'Thailand', 'Turkey'],\n",
              " ['Russia', 'China', 'Thailand', 'Turkey'],\n",
              " ['Nepal', 'Russia', 'China', 'Thailand', 'Turkey'],\n",
              " ['Iran', 'China', 'Thailand', 'Turkey'],\n",
              " ['Nepal', 'Iran', 'China', 'Thailand', 'Turkey'],\n",
              " ['Russia', 'Iran', 'China', 'Thailand', 'Turkey'],\n",
              " ['Nepal', 'Russia', 'Iran', 'China', 'Thailand', 'Turkey'],\n",
              " ['Egypt'],\n",
              " ['Nepal', 'Egypt'],\n",
              " ['Russia', 'Egypt'],\n",
              " ['Nepal', 'Russia', 'Egypt'],\n",
              " ['Iran', 'Egypt'],\n",
              " ['Nepal', 'Iran', 'Egypt'],\n",
              " ['Russia', 'Iran', 'Egypt'],\n",
              " ['Nepal', 'Russia', 'Iran', 'Egypt'],\n",
              " ['China', 'Egypt'],\n",
              " ['Nepal', 'China', 'Egypt'],\n",
              " ['Russia', 'China', 'Egypt'],\n",
              " ['Nepal', 'Russia', 'China', 'Egypt'],\n",
              " ['Iran', 'China', 'Egypt'],\n",
              " ['Nepal', 'Iran', 'China', 'Egypt'],\n",
              " ['Russia', 'Iran', 'China', 'Egypt'],\n",
              " ['Nepal', 'Russia', 'Iran', 'China', 'Egypt'],\n",
              " ['Thailand', 'Egypt'],\n",
              " ['Nepal', 'Thailand', 'Egypt'],\n",
              " ['Russia', 'Thailand', 'Egypt'],\n",
              " ['Nepal', 'Russia', 'Thailand', 'Egypt'],\n",
              " ['Iran', 'Thailand', 'Egypt'],\n",
              " ['Nepal', 'Iran', 'Thailand', 'Egypt'],\n",
              " ['Russia', 'Iran', 'Thailand', 'Egypt'],\n",
              " ['Nepal', 'Russia', 'Iran', 'Thailand', 'Egypt'],\n",
              " ['China', 'Thailand', 'Egypt'],\n",
              " ['Nepal', 'China', 'Thailand', 'Egypt'],\n",
              " ['Russia', 'China', 'Thailand', 'Egypt'],\n",
              " ['Nepal', 'Russia', 'China', 'Thailand', 'Egypt'],\n",
              " ['Iran', 'China', 'Thailand', 'Egypt'],\n",
              " ['Nepal', 'Iran', 'China', 'Thailand', 'Egypt'],\n",
              " ['Russia', 'Iran', 'China', 'Thailand', 'Egypt'],\n",
              " ['Nepal', 'Russia', 'Iran', 'China', 'Thailand', 'Egypt'],\n",
              " ['Turkey', 'Egypt'],\n",
              " ['Nepal', 'Turkey', 'Egypt'],\n",
              " ['Russia', 'Turkey', 'Egypt'],\n",
              " ['Nepal', 'Russia', 'Turkey', 'Egypt'],\n",
              " ['Iran', 'Turkey', 'Egypt'],\n",
              " ['Nepal', 'Iran', 'Turkey', 'Egypt'],\n",
              " ['Russia', 'Iran', 'Turkey', 'Egypt'],\n",
              " ['Nepal', 'Russia', 'Iran', 'Turkey', 'Egypt'],\n",
              " ['China', 'Turkey', 'Egypt'],\n",
              " ['Nepal', 'China', 'Turkey', 'Egypt'],\n",
              " ['Russia', 'China', 'Turkey', 'Egypt'],\n",
              " ['Nepal', 'Russia', 'China', 'Turkey', 'Egypt'],\n",
              " ['Iran', 'China', 'Turkey', 'Egypt'],\n",
              " ['Nepal', 'Iran', 'China', 'Turkey', 'Egypt'],\n",
              " ['Russia', 'Iran', 'China', 'Turkey', 'Egypt'],\n",
              " ['Nepal', 'Russia', 'Iran', 'China', 'Turkey', 'Egypt'],\n",
              " ['Thailand', 'Turkey', 'Egypt'],\n",
              " ['Nepal', 'Thailand', 'Turkey', 'Egypt'],\n",
              " ['Russia', 'Thailand', 'Turkey', 'Egypt'],\n",
              " ['Nepal', 'Russia', 'Thailand', 'Turkey', 'Egypt'],\n",
              " ['Iran', 'Thailand', 'Turkey', 'Egypt'],\n",
              " ['Nepal', 'Iran', 'Thailand', 'Turkey', 'Egypt'],\n",
              " ['Russia', 'Iran', 'Thailand', 'Turkey', 'Egypt'],\n",
              " ['Nepal', 'Russia', 'Iran', 'Thailand', 'Turkey', 'Egypt'],\n",
              " ['China', 'Thailand', 'Turkey', 'Egypt'],\n",
              " ['Nepal', 'China', 'Thailand', 'Turkey', 'Egypt'],\n",
              " ['Russia', 'China', 'Thailand', 'Turkey', 'Egypt'],\n",
              " ['Nepal', 'Russia', 'China', 'Thailand', 'Turkey', 'Egypt'],\n",
              " ['Iran', 'China', 'Thailand', 'Turkey', 'Egypt'],\n",
              " ['Nepal', 'Iran', 'China', 'Thailand', 'Turkey', 'Egypt'],\n",
              " ['Russia', 'Iran', 'China', 'Thailand', 'Turkey', 'Egypt'],\n",
              " ['Nepal', 'Russia', 'Iran', 'China', 'Thailand', 'Turkey', 'Egypt']]"
            ]
          },
          "metadata": {},
          "execution_count": 89
        }
      ]
    },
    {
      "cell_type": "markdown",
      "source": [
        "Here, i have used for loops. firstly we have a empty set and then it keeps adding a new element to it, putting that set and the empty set into the powerset. then it resets to next element of original set. it than puts that element into each of the previous two in the powerste and doubles the size of powerset. and than repeting the process until every elements are  covered.\n"
      ],
      "metadata": {
        "id": "0ruW9ppSoJNi"
      }
    },
    {
      "cell_type": "markdown",
      "source": [
        "F) How many elements would the power set of U have? \n",
        "             \n",
        "There are 2^21= 2097152 elements in the powerset of U contaning 21elements."
      ],
      "metadata": {
        "id": "j1ioFhpCrEOV"
      }
    }
  ]
}