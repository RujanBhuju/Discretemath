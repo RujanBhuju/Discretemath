{
  "nbformat": 4,
  "nbformat_minor": 0,
  "metadata": {
    "colab": {
      "name": "Probability.ipynb",
      "provenance": [],
      "collapsed_sections": [],
      "authorship_tag": "ABX9TyNautRhGZ3rFM1fH1bhjd0u",
      "include_colab_link": true
    },
    "kernelspec": {
      "name": "python3",
      "display_name": "Python 3"
    },
    "language_info": {
      "name": "python"
    }
  },
  "cells": [
    {
      "cell_type": "markdown",
      "metadata": {
        "id": "view-in-github",
        "colab_type": "text"
      },
      "source": [
        "<a href=\"https://colab.research.google.com/github/RujanBhuju/Discretemath/blob/main/Probability.ipynb\" target=\"_parent\"><img src=\"https://colab.research.google.com/assets/colab-badge.svg\" alt=\"Open In Colab\"/></a>"
      ]
    },
    {
      "cell_type": "markdown",
      "source": [
        "Project Part 3 : CPSMA 3133 Dr. Jacob's Discrete Mathematics\n",
        "\n",
        "Probability.\n",
        "\n",
        "Rujan Bhuju : 268963"
      ],
      "metadata": {
        "id": "eXfcI0B7jvW2"
      }
    },
    {
      "cell_type": "markdown",
      "source": [
        "Creating a sample space of rolling a random Dice. I will be using the probability of getting 1,3,5 and neither getting 1,3,5.\n",
        "\n",
        " P(1)=1/6\n",
        "\n",
        " P(3)= 1/6\n",
        "\n",
        "\n",
        " P(5)= 1/6\n",
        "\n",
        " P(N)= 3/6\n",
        "  Now, checking if it holds the axioms of probability or not."
      ],
      "metadata": {
        "id": "yaEo9T9LHKXa"
      }
    },
    {
      "cell_type": "code",
      "source": [
        "p = [1/6, 1/6, 1/6, 3/6]\n",
        "sum(p)"
      ],
      "metadata": {
        "colab": {
          "base_uri": "https://localhost:8080/"
        },
        "id": "d3rlgw_cIIZd",
        "outputId": "6b318ed8-6471-412e-ac23-82054574449a"
      },
      "execution_count": 75,
      "outputs": [
        {
          "output_type": "execute_result",
          "data": {
            "text/plain": [
              "1.0"
            ]
          },
          "metadata": {},
          "execution_count": 75
        }
      ]
    },
    {
      "cell_type": "markdown",
      "source": [
        "Since the total of the  probabilities is 1, it does holds the axioms of probability."
      ],
      "metadata": {
        "id": "31669uKQIT2B"
      }
    },
    {
      "cell_type": "markdown",
      "source": [
        " A compound events that uses my sample space would be the probability of getting odd number while rolling the dice. lets call it O."
      ],
      "metadata": {
        "id": "8xzG8DwLIz6w"
      }
    },
    {
      "cell_type": "code",
      "source": [
        "ProbabilityO = 0\n",
        "for i in [0,2]:\n",
        "  ProbabilityO = ProbabilityO + p[i]\n",
        "\n",
        "ProbabilityO"
      ],
      "metadata": {
        "colab": {
          "base_uri": "https://localhost:8080/"
        },
        "id": "MIo1u2ePKccS",
        "outputId": "24816368-29ca-4947-fa04-69960b5832f4"
      },
      "execution_count": 43,
      "outputs": [
        {
          "output_type": "execute_result",
          "data": {
            "text/plain": [
              "0.3333333333333333"
            ]
          },
          "metadata": {},
          "execution_count": 43
        }
      ]
    },
    {
      "cell_type": "markdown",
      "source": [
        "Computing union and intersection of a compound event. \n",
        "\n",
        "\n",
        "Probabilty of getting a 5 or greater than 3. lets call, Probabilty of getting a 5 or greater than 3 P(I).\n",
        "lets call Probabilty of getting 5 as (F) and probability of getting greater than 3 as (GT) .\n",
        "\n",
        "\n"
      ],
      "metadata": {
        "id": "VusK1AONOY54"
      }
    },
    {
      "cell_type": "code",
      "source": [
        "ProbabilityF = p[2]\n",
        "Probability4 = 1/6\n",
        "Probability6 = 1/6"
      ],
      "metadata": {
        "id": "Lm1h8GJ1SGjv"
      },
      "execution_count": 50,
      "outputs": []
    },
    {
      "cell_type": "code",
      "source": [
        "ProbabilityGT = (ProbabilityF + Probability4 + Probability6)\n",
        "ProbabilityGT"
      ],
      "metadata": {
        "colab": {
          "base_uri": "https://localhost:8080/"
        },
        "id": "TyE6DhwWWy8i",
        "outputId": "cab381f4-da5b-428d-8ba4-9851f747c847"
      },
      "execution_count": 54,
      "outputs": [
        {
          "output_type": "execute_result",
          "data": {
            "text/plain": [
              "0.5"
            ]
          },
          "metadata": {},
          "execution_count": 54
        }
      ]
    },
    {
      "cell_type": "markdown",
      "source": [
        "The sample space of rolling a 5 and a number greater than 3 is\n",
        "\n",
        "= {5}.\n",
        "\n",
        "The probability of rolling a 5 and a number greater than 3 is\n",
        "\n",
        "= 1/6.\n",
        "lets call this P(5&3)."
      ],
      "metadata": {
        "id": "kh49FjPLaJRV"
      }
    },
    {
      "cell_type": "markdown",
      "source": [
        "Probability of getting 5 or greter than 3 is [P(5)+P(GT)- P(5 ∩ GT)]."
      ],
      "metadata": {
        "id": "i5YgY89JZXMW"
      }
    },
    {
      "cell_type": "markdown",
      "source": [
        "P[P(5) ∪ P(GT)] = [P(5) + P(GT) - P(P(5) ∩ P(GT)]."
      ],
      "metadata": {
        "id": "Vr9cJy68bZBC"
      }
    },
    {
      "cell_type": "markdown",
      "source": [
        "now,\n",
        "\n",
        "\n",
        "lets call our final Probability of getting 5 or greater than 3 as ProbabilityF."
      ],
      "metadata": {
        "id": "NLleCQ2fczcp"
      }
    },
    {
      "cell_type": "code",
      "source": [
        "ProbabilityF = (1/6 + 3/6 - 1/6)\n",
        "ProbabilityF"
      ],
      "metadata": {
        "colab": {
          "base_uri": "https://localhost:8080/"
        },
        "id": "6n5nICRLc1O_",
        "outputId": "702c8a31-be60-4d97-96ca-df9d855bf25f"
      },
      "execution_count": 58,
      "outputs": [
        {
          "output_type": "execute_result",
          "data": {
            "text/plain": [
              "0.5"
            ]
          },
          "metadata": {},
          "execution_count": 58
        }
      ]
    },
    {
      "cell_type": "markdown",
      "source": [
        "I will need frequency counts not probabilities, so I'll multiply every probabilty by 6."
      ],
      "metadata": {
        "id": "J97YQL2IedwQ"
      }
    },
    {
      "cell_type": "code",
      "source": [
        "p6 = [6*i for i in p]\n",
        "p = [1/6, 1/6, 1/6, 3/6]"
      ],
      "metadata": {
        "id": "bsHUmixGfIpc"
      },
      "execution_count": 59,
      "outputs": []
    },
    {
      "cell_type": "code",
      "source": [
        "p6"
      ],
      "metadata": {
        "colab": {
          "base_uri": "https://localhost:8080/"
        },
        "id": "OFBAm3VwgPmS",
        "outputId": "7766b1dd-88be-4066-8ed2-d8e45f643d13"
      },
      "execution_count": 61,
      "outputs": [
        {
          "output_type": "execute_result",
          "data": {
            "text/plain": [
              "[1.0, 1.0, 1.0, 3.0]"
            ]
          },
          "metadata": {},
          "execution_count": 61
        }
      ]
    },
    {
      "cell_type": "markdown",
      "source": [
        "Output shows the frequency."
      ],
      "metadata": {
        "id": "QsmBuhUUoWMf"
      }
    },
    {
      "cell_type": "markdown",
      "source": [
        "Generating random choices."
      ],
      "metadata": {
        "id": "S6kb3uE8ocQj"
      }
    },
    {
      "cell_type": "code",
      "source": [
        "from random import choices\n",
        "\n",
        "\n",
        "choices(['one','three','five','neither'],p6,k=10)"
      ],
      "metadata": {
        "colab": {
          "base_uri": "https://localhost:8080/"
        },
        "id": "WSjHEyJ-hF1J",
        "outputId": "89cc4de1-6222-4720-d16d-78f8f8a95d77"
      },
      "execution_count": 70,
      "outputs": [
        {
          "output_type": "execute_result",
          "data": {
            "text/plain": [
              "['five',\n",
              " 'five',\n",
              " 'five',\n",
              " 'five',\n",
              " 'five',\n",
              " 'five',\n",
              " 'neither',\n",
              " 'neither',\n",
              " 'three',\n",
              " 'neither']"
            ]
          },
          "metadata": {},
          "execution_count": 70
        }
      ]
    },
    {
      "cell_type": "markdown",
      "source": [
        "Output shows the random choices."
      ],
      "metadata": {
        "id": "VKgJPkWPofIc"
      }
    },
    {
      "cell_type": "code",
      "source": [
        "DiceRolls =  choices(['one','three','five','neither'],p6,k=100)\n",
        "\n",
        "countone = 0\n",
        "countthree = 0\n",
        "countfive = 0\n",
        "\n",
        "for i in DiceRolls:\n",
        "  if i =='one':\n",
        "    countone += 1\n",
        "  elif i == 'three':\n",
        "    countthree += 1\n",
        "  elif i == 'five':\n",
        "    countfive += 1\n",
        "\n",
        "estimateProbs = [countone/len(DiceRolls),countthree/len(DiceRolls),countfive/len(DiceRolls)]"
      ],
      "metadata": {
        "id": "K61lRQrdhhZC"
      },
      "execution_count": 71,
      "outputs": []
    },
    {
      "cell_type": "code",
      "source": [
        "estimateProbs"
      ],
      "metadata": {
        "colab": {
          "base_uri": "https://localhost:8080/"
        },
        "id": "G_brmGKvieJ7",
        "outputId": "0ad80c6d-6e82-486b-f2ee-ceea65ab69b2"
      },
      "execution_count": 74,
      "outputs": [
        {
          "output_type": "execute_result",
          "data": {
            "text/plain": [
              "[0.15, 0.2, 0.12]"
            ]
          },
          "metadata": {},
          "execution_count": 74
        }
      ]
    },
    {
      "cell_type": "markdown",
      "source": [
        "Output shows the estimates probability."
      ],
      "metadata": {
        "id": "7b5hg6I9onu1"
      }
    }
  ]
}